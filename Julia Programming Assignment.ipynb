{
 "cells": [
  {
   "cell_type": "markdown",
   "metadata": {},
   "source": [
    "<img\n",
    "src=\"https://www.imt-atlantique.fr/sites/default/files/Images/Ecole/charte-graphique/IMT_Atlantique_logo_RVB_Baseline_400x272.jpg\"\n",
    "WIDTH=200 HEIGHT=200>\n",
    "\n",
    "<CENTER>\n",
    "</br>\n",
    "<p><font size=\"5\"> TAF MCE - 2019</span></p>\n",
    "<p><font size=\"4\">  UE Numerical Methods </font></p>\n",
    "<p></p>\n",
    "<p><font size=\"4\">  Exercises of \"Notebook 01: Introduction to Julia\" </font></p>\n",
    "</p></br>\n",
    "</p>\n",
    "</CENTER>\n",
    "\n",
    "\n",
    "----------------------------"
   ]
  },
  {
   "cell_type": "markdown",
   "metadata": {},
   "source": [
    "# <span style=\"color:#00B8DE\"> I - A parameter estimation problem</span>\n",
    "\n",
    "- 1) Using library *Distributions.jl*, generate $n=10^3$ samples from a beta distribution \n",
    "(https://en.wikipedia.org/wiki/Beta_distribution) with parameters $(\\alpha,\\beta)=(2,4)$.\n",
    "\n",
    "- 2) Use the method of moments to estimate $(\\alpha,\\beta)$ from data."
   ]
  },
  {
   "cell_type": "markdown",
   "metadata": {},
   "source": [
    "#### Answer to question 1)"
   ]
  },
  {
   "cell_type": "code",
   "execution_count": 12,
   "metadata": {},
   "outputs": [
    {
     "name": "stderr",
     "output_type": "stream",
     "text": [
      "┌ Info: Precompiling Distributions [31c24e10-a181-5473-b8eb-7969acd0382f]\n",
      "└ @ Base loading.jl:1242\n"
     ]
    },
    {
     "data": {
      "text/plain": [
       "1000-element Array{Float64,1}:\n",
       " 0.5934283421898313  \n",
       " 0.2794939672953431  \n",
       " 0.2568898340775186  \n",
       " 0.31943542639298844 \n",
       " 0.2366483534849542  \n",
       " 0.2785892031455189  \n",
       " 0.08949750350736482 \n",
       " 0.6013219508826039  \n",
       " 0.5451425100872109  \n",
       " 0.14668861690397503 \n",
       " 0.3494097043061966  \n",
       " 0.27853129616877387 \n",
       " 0.10237954460356902 \n",
       " ⋮                   \n",
       " 0.24595803389894688 \n",
       " 0.57549626760294    \n",
       " 0.6534806505156369  \n",
       " 0.6723180755965791  \n",
       " 0.26966469178220204 \n",
       " 0.38323583405874906 \n",
       " 0.41401417035032934 \n",
       " 0.14541790915588554 \n",
       " 0.010764595484070655\n",
       " 0.16523779756685325 \n",
       " 0.6048938062043241  \n",
       " 0.08818764507058731 "
      ]
     },
     "execution_count": 12,
     "metadata": {},
     "output_type": "execute_result"
    }
   ],
   "source": [
    "using Distributions\n",
    "d = Distributions.Beta(2, 4)\n",
    "x = rand(d,1000)"
   ]
  },
  {
   "cell_type": "markdown",
   "metadata": {},
   "source": [
    "By the method of moments,we know that:\n",
    "\n",
    "\\begin{equation}\n",
    "E[X] = \\frac{\\alpha}{ \\alpha+\\beta}\n",
    "\\end{equation}\n",
    "and\n",
    "\\begin{equation}\n",
    "var[X] = \\frac{\\alpha\\beta}{ ({\\alpha+\\beta})^{2}(\\alpha+\\beta+1)}\n",
    "\\end{equation}\n",
    " So,\n",
    " \\begin{equation}\n",
    "\\alpha = E(\\frac{E(1-E)}{var} - 1)\n",
    "\\end{equation}\n",
    "and\n",
    " \\begin{equation}\n",
    "\\beta = \\alpha\\frac{(1-E)}{E}\n",
    "\\end{equation}\n"
   ]
  },
  {
   "cell_type": "code",
   "execution_count": 28,
   "metadata": {},
   "outputs": [
    {
     "name": "stdout",
     "output_type": "stream",
     "text": [
      "E=0.3465350672898743\tvar=0.033138382863466195\n",
      "alpha=2.0214848662237697\n",
      "beta=3.811935924442736"
     ]
    }
   ],
   "source": [
    "E = mean(x)\n",
    "Var = var(x)\n",
    "print(\"E=\",E,\"\\t\",\"var=\",Var,\"\\n\")\n",
    "alpha = E*(E*(1-E)/Var -1)\n",
    "beta = alpha*(1-E)/E\n",
    "print(\"alpha=\",alpha,\"\\n\",\"beta=\",beta)\n",
    "\n"
   ]
  },
  {
   "cell_type": "markdown",
   "metadata": {},
   "source": [
    "#### Answer to question 2)"
   ]
  },
  {
   "cell_type": "markdown",
   "metadata": {},
   "source": [
    "Relation between $\\alpha$, $\\beta$ and moments\n"
   ]
  },
  {
   "cell_type": "markdown",
   "metadata": {},
   "source": [
    "See previous answer for relation between $\\alpha, \\beta$ and moments."
   ]
  },
  {
   "cell_type": "code",
   "execution_count": 30,
   "metadata": {},
   "outputs": [
    {
     "data": {
      "text/plain": [
       "3.811935924442736"
      ]
     },
     "execution_count": 30,
     "metadata": {},
     "output_type": "execute_result"
    }
   ],
   "source": [
    "μ1_est = 0.3465350672898743\n",
    "σ2_est = 0.033138382863466195\n",
    "α_est  = 2.0214848662237697\n",
    "β_est  = 3.811935924442736"
   ]
  }
 ],
 "metadata": {
  "@webio": {
   "lastCommId": null,
   "lastKernelId": null
  },
  "kernelspec": {
   "display_name": "Julia 1.2.0",
   "language": "julia",
   "name": "julia-1.2"
  },
  "language_info": {
   "file_extension": ".jl",
   "mimetype": "application/julia",
   "name": "julia",
   "version": "1.2.0"
  }
 },
 "nbformat": 4,
 "nbformat_minor": 2
}
